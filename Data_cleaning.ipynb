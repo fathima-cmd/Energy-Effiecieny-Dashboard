{
 "cells": [
  {
   "cell_type": "code",
   "execution_count": 1,
   "id": "ea938355-1469-44bc-aece-f5214488acea",
   "metadata": {},
   "outputs": [],
   "source": [
    "#loading data\n",
    "import pandas as pd \n",
    "\n",
    "column_names = ['country', 'ccode', 'year', 'c02 emissions']\n",
    "\n",
    "def load_data():\n",
    "    e=pd.read_excel('share of renewabl energy.xlsm')\n",
    "    p=pd.read_excel('population.xlsm')\n",
    "    ec=pd.read_excel('energy consumption.xlsm')\n",
    "    c=pd.read_excel('co2 emissions.xlsm', header= None, names=column_names )\n",
    "    return e,p,ec,c\n",
    "\n",
    "e, p, ec, c = load_data()"
   ]
  },
  {
   "cell_type": "code",
   "execution_count": 2,
   "id": "777441eb-4857-4cb7-8f27-89c837ffe2f5",
   "metadata": {},
   "outputs": [
    {
     "name": "stdout",
     "output_type": "stream",
     "text": [
      "p:271, e:99, c:231, ec: 167\n"
     ]
    }
   ],
   "source": [
    "#removing inconsistencies in data\n",
    "\n",
    "en=e.country.nunique()\n",
    "pn=p.country.nunique()\n",
    "ecn=ec.country.nunique()\n",
    "cn=c.country.nunique()\n",
    "print(f'p:{pn}, e:{en}, c:{cn}, ec: {ecn}')"
   ]
  },
  {
   "cell_type": "code",
   "execution_count": 3,
   "id": "4fd962c7-b3ca-442c-be83-95ce27081e8a",
   "metadata": {},
   "outputs": [
    {
     "data": {
      "text/plain": [
       "86"
      ]
     },
     "execution_count": 3,
     "metadata": {},
     "output_type": "execute_result"
    }
   ],
   "source": [
    "# merging the dataframes\n",
    "\n",
    "merged = pd.merge(e, p, how='inner', on=['country', 'year'])\n",
    "merged.country.nunique()"
   ]
  },
  {
   "cell_type": "code",
   "execution_count": 4,
   "id": "88794997-92e6-4fb0-9550-6a68d7791aee",
   "metadata": {},
   "outputs": [],
   "source": [
    "merge1 = pd.merge(merged, ec, how='inner', on=['country', 'year'])\n",
    "merge2 = pd.merge(merge1, c, how='inner', on=['country', 'year'])"
   ]
  },
  {
   "cell_type": "code",
   "execution_count": 11,
   "id": "7d66ea08-049d-43a3-af08-10263ade90bc",
   "metadata": {},
   "outputs": [
    {
     "data": {
      "text/html": [
       "<div>\n",
       "<style scoped>\n",
       "    .dataframe tbody tr th:only-of-type {\n",
       "        vertical-align: middle;\n",
       "    }\n",
       "\n",
       "    .dataframe tbody tr th {\n",
       "        vertical-align: top;\n",
       "    }\n",
       "\n",
       "    .dataframe thead th {\n",
       "        text-align: right;\n",
       "    }\n",
       "</style>\n",
       "<table border=\"1\" class=\"dataframe\">\n",
       "  <thead>\n",
       "    <tr style=\"text-align: right;\">\n",
       "      <th></th>\n",
       "      <th>country</th>\n",
       "      <th>year</th>\n",
       "      <th>%renewables</th>\n",
       "      <th>population</th>\n",
       "      <th>primary energy consumption per GDP (kWh/$)</th>\n",
       "      <th>gdp per capita</th>\n",
       "      <th>c02 emissions</th>\n",
       "    </tr>\n",
       "  </thead>\n",
       "  <tbody>\n",
       "    <tr>\n",
       "      <th>0</th>\n",
       "      <td>Algeria</td>\n",
       "      <td>1990</td>\n",
       "      <td>0.126739</td>\n",
       "      <td>25375816</td>\n",
       "      <td>2.672821</td>\n",
       "      <td>4697.0000</td>\n",
       "      <td>3.024046</td>\n",
       "    </tr>\n",
       "    <tr>\n",
       "      <th>1</th>\n",
       "      <td>Algeria</td>\n",
       "      <td>1991</td>\n",
       "      <td>0.277607</td>\n",
       "      <td>25987937</td>\n",
       "      <td>2.577059</td>\n",
       "      <td>4708.2320</td>\n",
       "      <td>3.032439</td>\n",
       "    </tr>\n",
       "    <tr>\n",
       "      <th>2</th>\n",
       "      <td>Algeria</td>\n",
       "      <td>1992</td>\n",
       "      <td>0.183757</td>\n",
       "      <td>26628568</td>\n",
       "      <td>2.502111</td>\n",
       "      <td>4850.2230</td>\n",
       "      <td>2.999910</td>\n",
       "    </tr>\n",
       "    <tr>\n",
       "      <th>3</th>\n",
       "      <td>Algeria</td>\n",
       "      <td>1993</td>\n",
       "      <td>0.350280</td>\n",
       "      <td>27277040</td>\n",
       "      <td>2.287416</td>\n",
       "      <td>4816.9240</td>\n",
       "      <td>3.004137</td>\n",
       "    </tr>\n",
       "    <tr>\n",
       "      <th>4</th>\n",
       "      <td>Algeria</td>\n",
       "      <td>1994</td>\n",
       "      <td>0.162579</td>\n",
       "      <td>27887276</td>\n",
       "      <td>2.248447</td>\n",
       "      <td>4856.9854</td>\n",
       "      <td>3.177377</td>\n",
       "    </tr>\n",
       "    <tr>\n",
       "      <th>...</th>\n",
       "      <td>...</td>\n",
       "      <td>...</td>\n",
       "      <td>...</td>\n",
       "      <td>...</td>\n",
       "      <td>...</td>\n",
       "      <td>...</td>\n",
       "      <td>...</td>\n",
       "    </tr>\n",
       "    <tr>\n",
       "      <th>2245</th>\n",
       "      <td>World</td>\n",
       "      <td>2018</td>\n",
       "      <td>11.743186</td>\n",
       "      <td>7729902724</td>\n",
       "      <td>1.359974</td>\n",
       "      <td>15814.8490</td>\n",
       "      <td>4.751732</td>\n",
       "    </tr>\n",
       "    <tr>\n",
       "      <th>2246</th>\n",
       "      <td>World</td>\n",
       "      <td>2019</td>\n",
       "      <td>12.228147</td>\n",
       "      <td>7811293714</td>\n",
       "      <td>1.337269</td>\n",
       "      <td>16091.4490</td>\n",
       "      <td>4.750081</td>\n",
       "    </tr>\n",
       "    <tr>\n",
       "      <th>2247</th>\n",
       "      <td>World</td>\n",
       "      <td>2020</td>\n",
       "      <td>13.404395</td>\n",
       "      <td>7887001284</td>\n",
       "      <td>1.329519</td>\n",
       "      <td>15461.1870</td>\n",
       "      <td>4.453724</td>\n",
       "    </tr>\n",
       "    <tr>\n",
       "      <th>2248</th>\n",
       "      <td>World</td>\n",
       "      <td>2021</td>\n",
       "      <td>13.469198</td>\n",
       "      <td>7954448405</td>\n",
       "      <td>1.315260</td>\n",
       "      <td>16282.9810</td>\n",
       "      <td>4.650446</td>\n",
       "    </tr>\n",
       "    <tr>\n",
       "      <th>2249</th>\n",
       "      <td>World</td>\n",
       "      <td>2022</td>\n",
       "      <td>14.119935</td>\n",
       "      <td>8021407170</td>\n",
       "      <td>1.296633</td>\n",
       "      <td>16676.7500</td>\n",
       "      <td>4.649288</td>\n",
       "    </tr>\n",
       "  </tbody>\n",
       "</table>\n",
       "<p>2250 rows × 7 columns</p>\n",
       "</div>"
      ],
      "text/plain": [
       "      country  year  %renewables   population   \\\n",
       "0     Algeria  1990      0.126739     25375816   \n",
       "1     Algeria  1991      0.277607     25987937   \n",
       "2     Algeria  1992      0.183757     26628568   \n",
       "3     Algeria  1993      0.350280     27277040   \n",
       "4     Algeria  1994      0.162579     27887276   \n",
       "...       ...   ...           ...          ...   \n",
       "2245    World  2018     11.743186   7729902724   \n",
       "2246    World  2019     12.228147   7811293714   \n",
       "2247    World  2020     13.404395   7887001284   \n",
       "2248    World  2021     13.469198   7954448405   \n",
       "2249    World  2022     14.119935   8021407170   \n",
       "\n",
       "      primary energy consumption per GDP (kWh/$)  gdp per capita  \\\n",
       "0                                       2.672821       4697.0000   \n",
       "1                                       2.577059       4708.2320   \n",
       "2                                       2.502111       4850.2230   \n",
       "3                                       2.287416       4816.9240   \n",
       "4                                       2.248447       4856.9854   \n",
       "...                                          ...             ...   \n",
       "2245                                    1.359974      15814.8490   \n",
       "2246                                    1.337269      16091.4490   \n",
       "2247                                    1.329519      15461.1870   \n",
       "2248                                    1.315260      16282.9810   \n",
       "2249                                    1.296633      16676.7500   \n",
       "\n",
       "      c02 emissions  \n",
       "0          3.024046  \n",
       "1          3.032439  \n",
       "2          2.999910  \n",
       "3          3.004137  \n",
       "4          3.177377  \n",
       "...             ...  \n",
       "2245       4.751732  \n",
       "2246       4.750081  \n",
       "2247       4.453724  \n",
       "2248       4.650446  \n",
       "2249       4.649288  \n",
       "\n",
       "[2250 rows x 7 columns]"
      ]
     },
     "execution_count": 11,
     "metadata": {},
     "output_type": "execute_result"
    }
   ],
   "source": [
    "df=merge2.copy()\n",
    "df=df.drop(columns=['ccode'])\n",
    "df"
   ]
  },
  {
   "cell_type": "code",
   "execution_count": 6,
   "id": "2f7db69d-95d1-4b5c-8536-491a81a270b7",
   "metadata": {},
   "outputs": [
    {
     "data": {
      "text/plain": [
       "country                                         74\n",
       "year                                            33\n",
       "%renewables                                   2217\n",
       "population                                    2250\n",
       "primary energy consumption per GDP (kWh/$)    2250\n",
       "gdp per capita                                2250\n",
       "ccode                                           74\n",
       "c02 emissions                                 2250\n",
       "dtype: int64"
      ]
     },
     "execution_count": 6,
     "metadata": {},
     "output_type": "execute_result"
    }
   ],
   "source": [
    "df.nunique()"
   ]
  },
  {
   "cell_type": "code",
   "execution_count": 8,
   "id": "1bc3a8ea-10a6-4e9b-8320-cf975b6efe87",
   "metadata": {},
   "outputs": [
    {
     "data": {
      "text/plain": [
       "country                                       0\n",
       "year                                          0\n",
       "%renewables                                   0\n",
       "population                                    0\n",
       "primary energy consumption per GDP (kWh/$)    0\n",
       "gdp per capita                                0\n",
       "ccode                                         0\n",
       "c02 emissions                                 0\n",
       "dtype: int64"
      ]
     },
     "execution_count": 8,
     "metadata": {},
     "output_type": "execute_result"
    }
   ],
   "source": [
    "df.isna().sum()"
   ]
  },
  {
   "cell_type": "code",
   "execution_count": 16,
   "id": "842a4015-66d2-4490-834c-4704e303c65c",
   "metadata": {},
   "outputs": [
    {
     "data": {
      "text/plain": [
       "array(['Algeria', 'Argentina', 'Australia', 'Austria', 'Azerbaijan',\n",
       "       'Bangladesh', 'Belarus', 'Belgium', 'Brazil', 'Bulgaria', 'Canada',\n",
       "       'Chile', 'China', 'Colombia', 'Croatia', 'Czechia', 'Denmark',\n",
       "       'Ecuador', 'Egypt', 'Estonia', 'Finland', 'France', 'Germany',\n",
       "       'Greece', 'Hong Kong', 'Hungary', 'India', 'Indonesia', 'Iran',\n",
       "       'Iraq', 'Ireland', 'Israel', 'Italy', 'Japan', 'Kazakhstan',\n",
       "       'Latvia', 'Lithuania', 'Luxembourg', 'Malaysia', 'Mexico',\n",
       "       'Morocco', 'Netherlands', 'New Zealand', 'North Macedonia',\n",
       "       'Norway', 'Oman', 'Pakistan', 'Peru', 'Philippines', 'Poland',\n",
       "       'Portugal', 'Romania', 'Russia', 'Saudi Arabia', 'Singapore',\n",
       "       'Slovakia', 'Slovenia', 'South Africa', 'South Korea', 'Spain',\n",
       "       'Sri Lanka', 'Sweden', 'Switzerland', 'Taiwan', 'Thailand',\n",
       "       'Turkey', 'Turkmenistan', 'Ukraine', 'United Kingdom',\n",
       "       'United States', 'Uzbekistan', 'Venezuela', 'Vietnam', 'World'],\n",
       "      dtype=object)"
      ]
     },
     "execution_count": 16,
     "metadata": {},
     "output_type": "execute_result"
    }
   ],
   "source": [
    "df['country'].unique()"
   ]
  },
  {
   "cell_type": "code",
   "execution_count": null,
   "id": "4c4f1519-0302-4c4d-9a63-c85eca02560a",
   "metadata": {},
   "outputs": [],
   "source": []
  },
  {
   "cell_type": "code",
   "execution_count": null,
   "id": "58aaf971-89ec-4835-9d4e-51588c7a0bda",
   "metadata": {},
   "outputs": [],
   "source": []
  }
 ],
 "metadata": {
  "kernelspec": {
   "display_name": "Python 3 (ipykernel)",
   "language": "python",
   "name": "python3"
  },
  "language_info": {
   "codemirror_mode": {
    "name": "ipython",
    "version": 3
   },
   "file_extension": ".py",
   "mimetype": "text/x-python",
   "name": "python",
   "nbconvert_exporter": "python",
   "pygments_lexer": "ipython3",
   "version": "3.12.9"
  }
 },
 "nbformat": 4,
 "nbformat_minor": 5
}
